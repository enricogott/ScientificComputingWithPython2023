{
 "cells": [
  {
   "cell_type": "markdown",
   "metadata": {},
   "source": [
    "You can solve these exercises in the room or at home. For this week, and the next 3 weeks, exercises have to be solved by creating a single dedicated `.py` file called `01ex_introduction.py`.\n",
    "\n",
    "You can divide the individual exercises in the source code with appropriate comments (`#`).\n",
    "\n",
    "The exercises need to run without errors with `python3 01ex_introduction.py`."
   ]
  },
  {
   "cell_type": "markdown",
   "metadata": {},
   "source": [
    "1\\. **The HelloWorld replacement**\n",
    "\n",
    "a) Write a program that:\n",
    "- prints the numbers from 1 to 100\n",
    "- but for multiples of three print \"`Hello`\" instead of the number and for the multiples of five print \"`World`\"\n",
    "- for numbers which are multiples of both three and five print \"`HelloWorld`\".\n",
    "\n",
    "b) Put the result in a tuple and substitute \"`Hello`\" with \"`Python`\" and \"`World`\" with \"`Works`\"."
   ]
  },
  {
   "cell_type": "code",
   "execution_count": 24,
   "metadata": {},
   "outputs": [
    {
     "name": "stdout",
     "output_type": "stream",
     "text": [
      "1\n",
      "2\n",
      "Hello\n",
      "4\n",
      "World\n",
      "Hello\n",
      "7\n",
      "8\n",
      "Hello\n",
      "World\n",
      "11\n",
      "Hello\n",
      "13\n",
      "14\n",
      "HelloWorld\n",
      "16\n",
      "17\n",
      "Hello\n",
      "19\n",
      "World\n",
      "Hello\n",
      "22\n",
      "23\n",
      "Hello\n",
      "World\n",
      "26\n",
      "Hello\n",
      "28\n",
      "29\n",
      "HelloWorld\n",
      "31\n",
      "32\n",
      "Hello\n",
      "34\n",
      "World\n",
      "Hello\n",
      "37\n",
      "38\n",
      "Hello\n",
      "World\n",
      "41\n",
      "Hello\n",
      "43\n",
      "44\n",
      "HelloWorld\n",
      "46\n",
      "47\n",
      "Hello\n",
      "49\n",
      "World\n",
      "Hello\n",
      "52\n",
      "53\n",
      "Hello\n",
      "World\n",
      "56\n",
      "Hello\n",
      "58\n",
      "59\n",
      "HelloWorld\n",
      "61\n",
      "62\n",
      "Hello\n",
      "64\n",
      "World\n",
      "Hello\n",
      "67\n",
      "68\n",
      "Hello\n",
      "World\n",
      "71\n",
      "Hello\n",
      "73\n",
      "74\n",
      "HelloWorld\n",
      "76\n",
      "77\n",
      "Hello\n",
      "79\n",
      "World\n",
      "Hello\n",
      "82\n",
      "83\n",
      "Hello\n",
      "World\n",
      "86\n",
      "Hello\n",
      "88\n",
      "89\n",
      "HelloWorld\n",
      "91\n",
      "92\n",
      "Hello\n",
      "94\n",
      "World\n",
      "Hello\n",
      "97\n",
      "98\n",
      "Hello\n",
      "World\n",
      "(1, 2, 'Python', 4, 'Works', 'Python', 7, 8, 'Python', 'Works', 11, 'Python', 13, 14, 'PythonWorks', 16, 17, 'Python', 19, 'Works', 'Python', 22, 23, 'Python', 'Works', 26, 'Python', 28, 29, 'PythonWorks', 31, 32, 'Python', 34, 'Works', 'Python', 37, 38, 'Python', 'Works', 41, 'Python', 43, 44, 'PythonWorks', 46, 47, 'Python', 49, 'Works', 'Python', 52, 53, 'Python', 'Works', 56, 'Python', 58, 59, 'PythonWorks', 61, 62, 'Python', 64, 'Works', 'Python', 67, 68, 'Python', 'Works', 71, 'Python', 73, 74, 'PythonWorks', 76, 77, 'Python', 79, 'Works', 'Python', 82, 83, 'Python', 'Works', 86, 'Python', 88, 89, 'PythonWorks', 91, 92, 'Python', 94, 'Works', 'Python', 97, 98, 'Python', 'Works')\n"
     ]
    }
   ],
   "source": [
    "results = []\n",
    "for i in range(1,101):\n",
    "    if((i%3==0)and(i%5!=0)):\n",
    "        print(\"Hello\")\n",
    "        results.append(\"Python\")\n",
    "    elif (i%5==0)and(i%3!=0):\n",
    "        print(\"World\")\n",
    "        results.append(\"Works\")\n",
    "    elif (i%5==0)and(i%3==0):\n",
    "        print(\"HelloWorld\")\n",
    "        results.append(\"PythonWorks\")\n",
    "    else:\n",
    "        print(i)\n",
    "        results.append(i)\n",
    "results_tuple=tuple(results)\n",
    "print(results_tuple)"
   ]
  },
  {
   "cell_type": "markdown",
   "metadata": {},
   "source": [
    "2\\. **The swap**\n",
    "\n",
    "Write a program that swaps the values of two input variables `x` and `y` from command line (whatever the type).\n",
    "\n",
    "Try to do that without using a temporary variable, exploiting the Python syntax."
   ]
  },
  {
   "cell_type": "code",
   "execution_count": 16,
   "metadata": {},
   "outputs": [
    {
     "name": "stdout",
     "output_type": "stream",
     "text": [
      "Define the value of x: 10\n",
      "Value of x:  10\n",
      "Define the value of y: 20\n",
      "Value of y:  20\n",
      "Final value of x:  20\n",
      "Final value of y:  10\n"
     ]
    }
   ],
   "source": [
    "x=input(\"Define the value of x: \")\n",
    "print(\"Value of x: \", x)\n",
    "y=input(\"Define the value of y: \")\n",
    "print(\"Value of y: \", y)\n",
    "x, y= y, x\n",
    "print(\"Final value of x: \", x)\n",
    "print(\"Final value of y: \", y)"
   ]
  },
  {
   "cell_type": "markdown",
   "metadata": {},
   "source": [
    "3\\. **Computing the distance**\n",
    "\n",
    "Write a program that calculates and prints the euclidean distance between two given points $u$ and $v$ in a 2D space, where $u$ and $v$ are both 2-tuples $(x,y)$.\n",
    "\n",
    "Example: if $u=(3,0)$ and $v=(0,4)$, the function should return $5$.\n",
    "\n",
    "*Hint:* in order to compute the square root, import the `math` library with `import math` and use `math.sqrt()`."
   ]
  },
  {
   "cell_type": "code",
   "execution_count": 4,
   "metadata": {},
   "outputs": [
    {
     "name": "stdout",
     "output_type": "stream",
     "text": [
      "Insert the value for u_1: 3.0\n",
      "Insert the value of u_2: 0\n",
      "Insert the value for v_1: 0\n",
      "Insert the value of v_2: 4.0\n",
      "The euclidean distance is:  5.0\n"
     ]
    }
   ],
   "source": [
    "import math\n",
    "u_1, u_2 = input(\"Insert the value for u_1: \"), input(\"Insert the value of u_2: \")\n",
    "u_1, u_2 = float(u_1), float(u_2)\n",
    "u = (u_1, u_2)\n",
    "v_1, v_2 = input(\"Insert the value for v_1: \"), input(\"Insert the value of v_2: \")\n",
    "v_1, v_2 = float(v_1), float(v_2)\n",
    "v = (v_1, v_2)\n",
    "euclidean_distance = math.sqrt((u_1-v_1)**2+(u_2-v_2)**2)\n",
    "print(\"The euclidean distance is: \", euclidean_distance)"
   ]
  },
  {
   "cell_type": "markdown",
   "metadata": {},
   "source": [
    "4\\. **Counting letters**\n",
    "\n",
    "Write a program that calculates the number of times each character occurs in a given string. Ignore differences in capitalization.\n",
    "\n",
    "The test strings are:"
   ]
  },
  {
   "cell_type": "code",
   "execution_count": 3,
   "metadata": {},
   "outputs": [],
   "source": [
    "s1 = \"Write a program that prints the numbers from 1 to 100. \\\n",
    "But for multiples of three print Hello instead of the number and for the multiples of five print World. \\\n",
    "For numbers which are multiples of both three and five print HelloWorld.\"\n",
    "s2 = \"The quick brown fox jumps over the lazy dog\""
   ]
  },
  {
   "cell_type": "code",
   "execution_count": 6,
   "metadata": {},
   "outputs": [
    {
     "name": "stdout",
     "output_type": "stream",
     "text": [
      "dict_keys(['a', 'b', 'c', 'd', 'e', 'f', 'g', 'h', 'i', 'j', 'k', 'l', 'm', 'n', 'o', 'p', 'q', 'r', 's', 't', 'u', 'v', 'x', 'y', 'z']) dict_values([7, 5, 1, 5, 20, 10, 1, 11, 12, 0, 0, 12, 8, 10, 15, 8, 0, 19, 7, 19, 7, 2, 0, 0, 0])\n",
      "dict_keys(['a', 'b', 'c', 'd', 'e', 'f', 'g', 'h', 'i', 'j', 'k', 'l', 'm', 'n', 'o', 'p', 'q', 'r', 's', 't', 'u', 'v', 'x', 'y', 'z']) dict_values([1, 1, 1, 1, 3, 1, 1, 2, 1, 1, 1, 1, 1, 1, 4, 1, 1, 2, 1, 2, 2, 1, 1, 1, 1])\n"
     ]
    }
   ],
   "source": [
    "string1 = s1.lower()\n",
    "string2 = s2.lower()\n",
    "alphabet=\"abcdefghijklmnopqrstuvxyz\"\n",
    "s1_occ = {}\n",
    "s2_occ = {}\n",
    "for j in alphabet:\n",
    "    s1_occ[j] = string1.count(j)\n",
    "    s2_occ[j] = string2.count(j)\n",
    "print(s1_occ.keys(), s1_occ.values())\n",
    "print(s2_occ.keys(), s2_occ.values())"
   ]
  },
  {
   "cell_type": "markdown",
   "metadata": {},
   "source": [
    "5\\. **Isolating the unique**\n",
    "\n",
    "Write a program that determines and counts the unique numbers (numbers with only one occurrence) in the list:"
   ]
  },
  {
   "cell_type": "code",
   "execution_count": 6,
   "metadata": {},
   "outputs": [],
   "source": [
    "l = [36, 45, 58, 3, 74, 96, 64, 45, 31, 10, 24, 19, 33, 86, 99, 18, 63, 70, 85,\n",
    " 85, 63, 47, 56, 42, 70, 84, 88, 55, 20, 54, 8, 56, 51, 79, 81, 57, 37, 91,\n",
    " 1, 84, 84, 36, 66, 9, 89, 50, 42, 91, 50, 95, 90, 98, 39, 16, 82, 31, 92, 41,\n",
    " 45, 30, 66, 70, 34, 85, 94, 5, 3, 36, 72, 91, 84, 34, 87, 75, 53, 51, 20, 89, 51, 20]"
   ]
  },
  {
   "cell_type": "code",
   "execution_count": 9,
   "metadata": {},
   "outputs": [
    {
     "name": "stdout",
     "output_type": "stream",
     "text": [
      "The length of the list containing only unique number is:  37\n",
      "The list itself containing only unique numbers is:  [58, 74, 96, 64, 10, 24, 19, 33, 86, 99, 18, 47, 88, 55, 54, 8, 79, 81, 57, 37, 1, 9, 95, 90, 98, 39, 16, 82, 92, 41, 30, 94, 5, 72, 87, 75, 53]\n"
     ]
    }
   ],
   "source": [
    "occ = []\n",
    "temp_occ = 0\n",
    "for i in range(0,len(l)):\n",
    "    temp_occ = l.count(l[i])\n",
    "    if (temp_occ > 1):\n",
    "        temp_occ = 0\n",
    "    elif (temp_occ == 1):\n",
    "        occ.append(l[i])\n",
    "        temp_occ = 0\n",
    "print(\"The length of the list containing only unique number is: \", len(occ))\n",
    "print(\"The list itself containing only unique numbers is: \", occ)"
   ]
  },
  {
   "cell_type": "markdown",
   "metadata": {},
   "source": [
    "Do the same exploiting only the Python data structures."
   ]
  },
  {
   "cell_type": "markdown",
   "metadata": {},
   "source": [
    "6\\. **Casting**\n",
    "\n",
    "Write a program that:\n",
    "* reads from command line two variables, that can be either `int`, `float`, or `str`.\n",
    "* use the `try`/`except` expressions to perform the addition of these two variables, only if possible\n",
    "* print the result without making the code crash for all the `int`/`float`/`str` input combinations."
   ]
  },
  {
   "cell_type": "code",
   "execution_count": 10,
   "metadata": {},
   "outputs": [
    {
     "name": "stdout",
     "output_type": "stream",
     "text": [
      "Write the value of the first variable: 3\n",
      "Write the value of the second variable: 5\n",
      "8\n",
      "8.0\n",
      "35\n"
     ]
    }
   ],
   "source": [
    "in1, in2 = input(\"Write the value of the first variable: \"), input(\"Write the value of the second variable: \")\n",
    "try:\n",
    "    num1, num2 = int(in1), int(in2)\n",
    "    print(num1 + num2)\n",
    "except:\n",
    "    ;\n",
    "try:\n",
    "    fl1, fl2 = float(in1), float(in2)\n",
    "    print(fl1 + fl2)\n",
    "except:\n",
    "    ;\n",
    "try:\n",
    "    st1, st2 = str(in1), str(in2)\n",
    "    print(st1 + st2)\n",
    "except:\n",
    "    ;"
   ]
  },
  {
   "cell_type": "markdown",
   "metadata": {},
   "source": [
    "7\\. **Cubes**\n",
    "\n",
    "Create a list of the cubes of *x* for *x* in *[0, 10]* using:\n",
    "\n",
    "a) a for loop\n",
    "\n",
    "b) a list comprehension"
   ]
  },
  {
   "cell_type": "code",
   "execution_count": 36,
   "metadata": {},
   "outputs": [
    {
     "name": "stdout",
     "output_type": "stream",
     "text": [
      "[0, 1, 8, 27, 64, 125, 216, 343, 512, 729, 1000]\n",
      "[0, 1, 8, 27, 64, 125, 216, 343, 512, 729, 1000]\n"
     ]
    }
   ],
   "source": [
    "acub = []\n",
    "for i in range(0,11):\n",
    "    acub.append(i**3)\n",
    "print(acub)\n",
    "bcub = [x**3 for x in range(11)]\n",
    "print(bcub)"
   ]
  },
  {
   "cell_type": "markdown",
   "metadata": {},
   "source": [
    "8\\. **List comprehension**\n",
    "\n",
    "Write, using the list comprehension, a single-line expression that gets the same result as the code in the cell below."
   ]
  },
  {
   "cell_type": "code",
   "execution_count": 37,
   "metadata": {},
   "outputs": [
    {
     "name": "stdout",
     "output_type": "stream",
     "text": [
      "[(0, 0), (0, 1), (0, 2), (0, 3), (1, 0), (1, 1), (1, 2), (1, 3), (2, 0), (2, 1), (2, 2), (2, 3)]\n"
     ]
    }
   ],
   "source": [
    "a = []\n",
    "for i in range(3):\n",
    "    for j in range(4):\n",
    "        a.append((i, j))\n",
    "print(a)"
   ]
  },
  {
   "cell_type": "code",
   "execution_count": 38,
   "metadata": {},
   "outputs": [
    {
     "name": "stdout",
     "output_type": "stream",
     "text": [
      "[(0, 0), (0, 1), (0, 2), (0, 3), (1, 0), (1, 1), (1, 2), (1, 3), (2, 0), (2, 1), (2, 2), (2, 3)]\n"
     ]
    }
   ],
   "source": [
    "a_com = [(i, j) for i in range(3) for j in range(4)]\n",
    "print(a_com)"
   ]
  },
  {
   "cell_type": "markdown",
   "metadata": {},
   "source": [
    "9\\. **Nested list comprehension**\n",
    "\n",
    "> A Pythagorean triple is an integer solution to the Pythagorean theorem $a^2+b^2=c^2$. The first Pythagorean triple is (3, 4, 5).\n",
    "\n",
    "Find and put in a tuple all unique Pythagorean triples for the positive integers $a$, $b$ and $c$ with $c < 100$."
   ]
  },
  {
   "cell_type": "code",
   "execution_count": 36,
   "metadata": {},
   "outputs": [
    {
     "name": "stdout",
     "output_type": "stream",
     "text": [
      "[(4, 3, 5), (8, 6, 10), (12, 5, 13), (12, 9, 15), (15, 8, 17), (16, 12, 20), (20, 15, 25), (21, 20, 29), (24, 7, 25), (24, 10, 26), (24, 18, 30), (28, 21, 35), (30, 16, 34), (32, 24, 40), (35, 12, 37), (36, 15, 39), (36, 27, 45), (40, 9, 41), (40, 30, 50), (42, 40, 58), (44, 33, 55), (45, 24, 51), (45, 28, 53), (48, 14, 50), (48, 20, 52), (48, 36, 60), (52, 39, 65), (55, 48, 73), (56, 33, 65), (56, 42, 70), (60, 11, 61), (60, 25, 65), (60, 32, 68), (60, 45, 75), (63, 16, 65), (63, 60, 87), (64, 48, 80), (68, 51, 85), (70, 24, 74), (72, 21, 75), (72, 30, 78), (72, 54, 90), (72, 65, 97), (75, 40, 85), (76, 57, 95), (77, 36, 85), (80, 18, 82), (80, 39, 89), (84, 13, 85), (84, 35, 91)]\n",
      "16\n",
      "((4, 3, 5), (12, 5, 13), (15, 8, 17), (21, 20, 29), (24, 7, 25), (35, 12, 37), (40, 9, 41), (45, 28, 53), (55, 48, 73), (56, 33, 65), (60, 11, 61), (63, 16, 65), (72, 65, 97), (77, 36, 85), (80, 39, 89), (84, 13, 85))\n"
     ]
    }
   ],
   "source": [
    "in_100 = [x for x in range(0,100)]\n",
    "li_tri = [(a, b, c) for a in range(1,100) for b in range(1,100) for c in range(0,100) if ((a**2)+(b**2)==(c**2))]\n",
    "i = 0\n",
    "while i<len(li_tri):\n",
    "    for j in range(0, len(li_tri)):\n",
    "        if ((li_tri[i][0]==li_tri[j][1])and(li_tri[i][2]==li_tri[j][2])):\n",
    "            li_tri.remove(li_tri[i])\n",
    "            i = i-1\n",
    "            break\n",
    "    i +=1\n",
    "i=0\n",
    "print(li_tri)\n",
    "while i<len(li_tri):\n",
    "    for j in range(0, len(li_tri)):\n",
    "        if ((i!=j)and(li_tri[j][0]%li_tri[i][0]==0)and(li_tri[j][1]%li_tri[i][1]==0)and(li_tri[j][2]%li_tri[i][2]==0)and((li_tri[j][0]/li_tri[i][0])==(li_tri[j][1]/li_tri[i][1]))):\n",
    "            li_tri.remove(li_tri[j])\n",
    "            i = i-1\n",
    "            break\n",
    "    i +=1\n",
    "\n",
    "print(len(li_tri))\n",
    "li_tri = tuple(li_tri)\n",
    "print(li_tri)"
   ]
  },
  {
   "cell_type": "markdown",
   "metadata": {},
   "source": [
    "10\\. **Normalization of a N-dimensional vector**\n",
    "\n",
    "Write a program that takes an N-dimensional vector, e.g. a variable-length tuple of numbers, and normalizes it to one (in such a way that the squared sum of all the entries is equal to 1)."
   ]
  },
  {
   "cell_type": "code",
   "execution_count": 44,
   "metadata": {},
   "outputs": [
    {
     "name": "stdout",
     "output_type": "stream",
     "text": [
      "[0.0, 0.01, 0.03, 0.04, 0.06, 0.07, 0.09, 0.1, 0.11, 0.13, 0.14, 0.16, 0.17, 0.19, 0.2, 0.21, 0.23, 0.24, 0.26, 0.27, 0.29, 0.3, 0.31, 0.33, 0.34]\n",
      "Sum:  0.9981999999999999\n"
     ]
    }
   ],
   "source": [
    "import math\n",
    "xin = [x for x in range(0,25)]\n",
    "N = len(xin)\n",
    "sm = 0\n",
    "for i in range(0, N):\n",
    "    sm += xin[i]**2\n",
    "sm = math.sqrt(sm)\n",
    "for i in range(0, N):\n",
    "    xin[i] = round(xin[i]/sm, 2)\n",
    "print(xin)\n",
    "sm_tot = 0\n",
    "for i in range(0, N):\n",
    "    sm_tot += xin[i]**2\n",
    "print(\"Sum: \", sm_tot)"
   ]
  },
  {
   "cell_type": "markdown",
   "metadata": {},
   "source": [
    "11\\. **The Fibonacci sequence**\n",
    "\n",
    "Calculate the first 20 numbers of the [Fibonacci sequence](https://en.wikipedia.org/wiki/Fibonacci_number) using only `for` or `while` loops."
   ]
  },
  {
   "cell_type": "code",
   "execution_count": 12,
   "metadata": {},
   "outputs": [
    {
     "name": "stdout",
     "output_type": "stream",
     "text": [
      "{0: 0, 1: 1, 2: 1, 3: 2, 4: 3, 5: 5, 6: 8, 7: 13, 8: 21, 9: 34, 10: 55, 11: 89, 12: 144, 13: 233, 14: 377, 15: 610, 16: 987, 17: 1597, 18: 2584, 19: 4181}\n"
     ]
    }
   ],
   "source": [
    "Fib = {}\n",
    "for i in range(0,20):\n",
    "    if (i==0):\n",
    "        Fib[i] = 0\n",
    "    if (i==1):\n",
    "        Fib[i] = 1\n",
    "    elif ((i!=0)and(i!=1)):\n",
    "        Fib[i] = Fib[i-1] + Fib[i-2]\n",
    "print(Fib)"
   ]
  }
 ],
 "metadata": {
  "kernelspec": {
   "display_name": "Python 3 (ipykernel)",
   "language": "python",
   "name": "python3"
  },
  "language_info": {
   "codemirror_mode": {
    "name": "ipython",
    "version": 3
   },
   "file_extension": ".py",
   "mimetype": "text/x-python",
   "name": "python",
   "nbconvert_exporter": "python",
   "pygments_lexer": "ipython3",
   "version": "3.9.7"
  }
 },
 "nbformat": 4,
 "nbformat_minor": 4
}
