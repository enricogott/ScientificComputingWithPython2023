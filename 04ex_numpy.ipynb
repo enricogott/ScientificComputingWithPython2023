{
 "cells": [
  {
   "cell_type": "markdown",
   "metadata": {},
   "source": [
    "1\\. **Reductions**\n",
    "\n",
    "Given the following matrix:\n",
    "\n",
    "```python\n",
    "m = np.arange(12).reshape((3,4))\n",
    "```\n",
    "\n",
    "   1. find the total mean\n",
    "   2. find the mean for each row and column"
   ]
  },
  {
   "cell_type": "code",
   "execution_count": 1,
   "metadata": {},
   "outputs": [],
   "source": [
    "import numpy as np"
   ]
  },
  {
   "cell_type": "code",
   "execution_count": 2,
   "metadata": {},
   "outputs": [
    {
     "name": "stdout",
     "output_type": "stream",
     "text": [
      "The array displayed on a single dimension is:  [ 0  1  2  3  4  5  6  7  8  9 10 11]\n",
      "The total mean is:  5.5\n",
      "The mean for each row is:  [1.5, 5.5, 9.5]\n",
      "The mean for each column is:  [4.0, 5.0, 6.0, 7.0]\n"
     ]
    }
   ],
   "source": [
    "m = np.arange(12).reshape((3,4))\n",
    "flat = m.flatten()\n",
    "tot_mean = np.mean(flat)\n",
    "print(\"The array displayed on a single dimension is: \", flat)\n",
    "print(\"The total mean is: \", tot_mean)\n",
    "mean_i = [np.mean(m[i,:]) for i in range(m.shape[0])]\n",
    "mean_j = [np.mean(m[:,j]) for j in range(m.shape[1])]\n",
    "print(\"The mean for each row is: \", mean_i)\n",
    "print(\"The mean for each column is: \", mean_j)"
   ]
  },
  {
   "cell_type": "markdown",
   "metadata": {},
   "source": [
    "2\\. **Outer product**\n",
    "\n",
    "Find the outer product of the following vectors:\n",
    "\n",
    "```python\n",
    "u = np.array([1, 3, 5, 7])\n",
    "v = np.array([2, 4, 6, 8])\n",
    "```\n",
    "\n",
    "Use different methods to do this:\n",
    "\n",
    "   1. Using the function `outer` in numpy\n",
    "   2. Using a nested `for` loop or a list comprehension\n",
    "   3. Using numpy broadcasting operations"
   ]
  },
  {
   "cell_type": "code",
   "execution_count": 3,
   "metadata": {},
   "outputs": [
    {
     "name": "stdout",
     "output_type": "stream",
     "text": [
      "Using outer function from numpy: \n",
      " [[ 2  4  6  8]\n",
      " [ 6 12 18 24]\n",
      " [10 20 30 40]\n",
      " [14 28 42 56]] \n",
      "\n",
      " Using nested function and reshaping: \n",
      " [[ 2  4  6  8]\n",
      " [ 6 12 18 24]\n",
      " [10 20 30 40]\n",
      " [14 28 42 56]] \n",
      "\n",
      " Using broadcasting: \n",
      " [[ 2  4  6  8]\n",
      " [ 6 12 18 24]\n",
      " [10 20 30 40]\n",
      " [14 28 42 56]]\n"
     ]
    }
   ],
   "source": [
    "u = np.array([1, 3, 5, 7])\n",
    "v = np.array([2, 4, 6, 8])\n",
    "out = np.outer(u,v,out=None)\n",
    "mult = np.array([(i*j) for i in u for j in v])\n",
    "mult = mult.reshape(4,4)\n",
    "z = [[i] for i in u]\n",
    "broad = z*v\n",
    "print(\"Using outer function from numpy: \\n\", out, '\\n\\n', \"Using nested function and reshaping: \\n\", mult, '\\n\\n', \"Using broadcasting: \\n\", broad)"
   ]
  },
  {
   "cell_type": "markdown",
   "metadata": {},
   "source": [
    "3\\. **Matrix masking**\n",
    "\n",
    "Create a $10 \\times 6$ matrix of float random numbers, distributed between 0 and 3 according to a flat distribution.\n",
    "\n",
    "After creating the matrix, set all entries $< 0.3$ to zero using a mask."
   ]
  },
  {
   "cell_type": "code",
   "execution_count": 4,
   "metadata": {},
   "outputs": [
    {
     "name": "stdout",
     "output_type": "stream",
     "text": [
      "Matrix before masking: \n",
      " [[2.76252449 2.90570565 0.08183024 2.76683166 2.55611422 2.66025264]\n",
      " [2.74184437 1.32206869 2.72929693 2.28533493 2.30744781 0.2071573 ]\n",
      " [2.4054427  2.15822966 1.07588155 2.70329118 0.21546044 1.84640479]\n",
      " [1.32141169 1.73057301 2.63165891 1.49541082 2.23796638 2.56050747]\n",
      " [0.83464274 1.19841576 1.26252066 2.19906369 2.25239306 2.40501994]\n",
      " [0.2912255  1.43396856 1.36643378 1.82610242 2.35270288 2.57014742]\n",
      " [0.24385963 1.08962581 1.42397764 0.82605875 1.7356277  2.300721  ]\n",
      " [1.95055217 2.6856984  2.85658744 2.64432115 1.29504481 1.74458668]\n",
      " [0.656747   0.76297453 1.56333261 0.36214742 2.88178256 0.15664963]\n",
      " [0.97314212 1.91935801 0.71933592 2.3178756  0.74989629 0.19098513]] \n",
      "\n",
      "\n",
      "Matrix after masking: \n",
      " [[2.76252449 2.90570565 0.         2.76683166 2.55611422 2.66025264]\n",
      " [2.74184437 1.32206869 2.72929693 2.28533493 2.30744781 0.        ]\n",
      " [2.4054427  2.15822966 1.07588155 2.70329118 0.         1.84640479]\n",
      " [1.32141169 1.73057301 2.63165891 1.49541082 2.23796638 2.56050747]\n",
      " [0.83464274 1.19841576 1.26252066 2.19906369 2.25239306 2.40501994]\n",
      " [0.         1.43396856 1.36643378 1.82610242 2.35270288 2.57014742]\n",
      " [0.         1.08962581 1.42397764 0.82605875 1.7356277  2.300721  ]\n",
      " [1.95055217 2.6856984  2.85658744 2.64432115 1.29504481 1.74458668]\n",
      " [0.656747   0.76297453 1.56333261 0.36214742 2.88178256 0.        ]\n",
      " [0.97314212 1.91935801 0.71933592 2.3178756  0.74989629 0.        ]]\n"
     ]
    }
   ],
   "source": [
    "#mat = np.array([np.random])\n",
    "mat = 3*np.random.rand(10,6)\n",
    "print(\"Matrix before masking: \\n\", mat, \"\\n\\n\")\n",
    "mat[mat<0.3] = 0\n",
    "print(\"Matrix after masking: \\n\", mat)"
   ]
  },
  {
   "cell_type": "markdown",
   "metadata": {},
   "source": [
    "4\\. **Trigonometric functions**\n",
    "\n",
    "Use `np.linspace` to create an array of 100 numbers between $0$ and $2\\pi$ (inclusive).\n",
    "\n",
    "  * Extract every 10th element using the slice notation\n",
    "  * Reverse the array using the slice notation\n",
    "  * Extract elements where the absolute difference between the `sin` and `cos` functions evaluated for that element is $< 0.1$\n",
    "  * **Optional**: make a plot showing the `sin` and `cos` functions and indicate graphically (with a line or a marker) where they are close"
   ]
  },
  {
   "cell_type": "code",
   "execution_count": 5,
   "metadata": {},
   "outputs": [
    {
     "name": "stdout",
     "output_type": "stream",
     "text": [
      "The array created is: \n",
      " [0.         0.06346652 0.12693304 0.19039955 0.25386607 0.31733259\n",
      " 0.38079911 0.44426563 0.50773215 0.57119866 0.63466518 0.6981317\n",
      " 0.76159822 0.82506474 0.88853126 0.95199777 1.01546429 1.07893081\n",
      " 1.14239733 1.20586385 1.26933037 1.33279688 1.3962634  1.45972992\n",
      " 1.52319644 1.58666296 1.65012947 1.71359599 1.77706251 1.84052903\n",
      " 1.90399555 1.96746207 2.03092858 2.0943951  2.15786162 2.22132814\n",
      " 2.28479466 2.34826118 2.41172769 2.47519421 2.53866073 2.60212725\n",
      " 2.66559377 2.72906028 2.7925268  2.85599332 2.91945984 2.98292636\n",
      " 3.04639288 3.10985939 3.17332591 3.23679243 3.30025895 3.36372547\n",
      " 3.42719199 3.4906585  3.55412502 3.61759154 3.68105806 3.74452458\n",
      " 3.8079911  3.87145761 3.93492413 3.99839065 4.06185717 4.12532369\n",
      " 4.1887902  4.25225672 4.31572324 4.37918976 4.44265628 4.5061228\n",
      " 4.56958931 4.63305583 4.69652235 4.75998887 4.82345539 4.88692191\n",
      " 4.95038842 5.01385494 5.07732146 5.14078798 5.2042545  5.26772102\n",
      " 5.33118753 5.39465405 5.45812057 5.52158709 5.58505361 5.64852012\n",
      " 5.71198664 5.77545316 5.83891968 5.9023862  5.96585272 6.02931923\n",
      " 6.09278575 6.15625227 6.21971879 6.28318531] \n",
      "\n",
      "\n",
      "The array containing every 10th element is: \n",
      " [0.0, 0.6346651825433925, 1.269330365086785, 1.9039955476301778, 2.53866073017357, 3.173325912716963, 3.8079910952603555, 4.442656277803748, 5.07732146034714, 5.711986642890533] \n",
      "\n",
      "\n",
      "The original array reversed is: \n",
      " [6.28318531 6.21971879 6.15625227 6.09278575 6.02931923 5.96585272\n",
      " 5.9023862  5.83891968 5.77545316 5.71198664 5.64852012 5.58505361\n",
      " 5.52158709 5.45812057 5.39465405 5.33118753 5.26772102 5.2042545\n",
      " 5.14078798 5.07732146 5.01385494 4.95038842 4.88692191 4.82345539\n",
      " 4.75998887 4.69652235 4.63305583 4.56958931 4.5061228  4.44265628\n",
      " 4.37918976 4.31572324 4.25225672 4.1887902  4.12532369 4.06185717\n",
      " 3.99839065 3.93492413 3.87145761 3.8079911  3.74452458 3.68105806\n",
      " 3.61759154 3.55412502 3.4906585  3.42719199 3.36372547 3.30025895\n",
      " 3.23679243 3.17332591 3.10985939 3.04639288 2.98292636 2.91945984\n",
      " 2.85599332 2.7925268  2.72906028 2.66559377 2.60212725 2.53866073\n",
      " 2.47519421 2.41172769 2.34826118 2.28479466 2.22132814 2.15786162\n",
      " 2.0943951  2.03092858 1.96746207 1.90399555 1.84052903 1.77706251\n",
      " 1.71359599 1.65012947 1.58666296 1.52319644 1.45972992 1.3962634\n",
      " 1.33279688 1.26933037 1.20586385 1.14239733 1.07893081 1.01546429\n",
      " 0.95199777 0.88853126 0.82506474 0.76159822 0.6981317  0.63466518\n",
      " 0.57119866 0.50773215 0.44426563 0.38079911 0.31733259 0.25386607\n",
      " 0.19039955 0.12693304 0.06346652 0.        ]\n",
      "Array made by extracting the elements where the absolute difference between the sin and cos functions evaluated for that element was <0.1: \n",
      " [0.76159822 0.82506474 3.87145761 3.93492413] \n",
      "\n",
      "\n"
     ]
    },
    {
     "data": {
      "text/plain": [
       "[<matplotlib.lines.Line2D at 0x25151745070>]"
      ]
     },
     "execution_count": 5,
     "metadata": {},
     "output_type": "execute_result"
    },
    {
     "data": {
      "image/png": "[encoded data removed]",
      "text/plain": [
       "<Figure size 432x288 with 1 Axes>"
      ]
     },
     "metadata": {
      "needs_background": "light"
     },
     "output_type": "display_data"
    }
   ],
   "source": [
    "import math\n",
    "import matplotlib.pyplot as plt\n",
    "numbers = np.linspace(0, 2*math.pi, num=100)\n",
    "print(\"The array created is: \\n\", numbers, \"\\n\\n\")\n",
    "num_slice = [numbers[i] for i in np.arange(0,100,10)]\n",
    "print(\"The array containing every 10th element is: \\n\", num_slice, \"\\n\\n\")\n",
    "reverse = numbers[::-1]\n",
    "print(\"The original array reversed is: \\n\", reverse)\n",
    "mask = [abs(math.sin(numbers[i])-math.cos(numbers[i]))<0.1 for i in range(len(numbers))]\n",
    "sico = numbers[mask]\n",
    "print(\"Array made by extracting the elements where the absolute difference between the sin and cos functions evaluated for that element was <0.1: \\n\", sico, \"\\n\\n\")\n",
    "cos = np.array([math.cos(numbers[i]) for i in range(len(numbers))])\n",
    "sin = np.array([math.sin(numbers[i]) for i in range(len(numbers))])\n",
    "plt.title(\"Sin and Cos function in comparison: \")\n",
    "plt.plot(cos)\n",
    "plt.plot(sin)"
   ]
  },
  {
   "cell_type": "markdown",
   "metadata": {},
   "source": [
    "5\\. **Matrices**\n",
    "\n",
    "Create a matrix that shows the $10 \\times 10$ multiplication table.\n",
    "\n",
    " * Find the trace of the matrix\n",
    " * Extract the anti-diagonal matrix (this should be ```array([10, 18, 24, 28, 30, 30, 28, 24, 18, 10])```)\n",
    " * Extract the diagonal offset by 1 upwards (this should be ```array([ 2,  6, 12, 20, 30, 42, 56, 72, 90])```)"
   ]
  },
  {
   "cell_type": "code",
   "execution_count": 6,
   "metadata": {},
   "outputs": [
    {
     "name": "stdout",
     "output_type": "stream",
     "text": [
      "The 10x10 multiplication table matrix is: \n",
      " [[  1   2   3   4   5   6   7   8   9  10]\n",
      " [  2   4   6   8  10  12  14  16  18  20]\n",
      " [  3   6   9  12  15  18  21  24  27  30]\n",
      " [  4   8  12  16  20  24  28  32  36  40]\n",
      " [  5  10  15  20  25  30  35  40  45  50]\n",
      " [  6  12  18  24  30  36  42  48  54  60]\n",
      " [  7  14  21  28  35  42  49  56  63  70]\n",
      " [  8  16  24  32  40  48  56  64  72  80]\n",
      " [  9  18  27  36  45  54  63  72  81  90]\n",
      " [ 10  20  30  40  50  60  70  80  90 100]]\n",
      "The anti-diagonal vector is: \n",
      " [10 18 24 28 30 30 28 24 18 10]\n",
      "The diagonal with the offset of 1 is: \n",
      " [ 2  6 12 20 30 42 56 72 90]\n"
     ]
    }
   ],
   "source": [
    "mat = np.array([(i*j) for i in range(1,11) for j in range(1,11)])\n",
    "mat = mat.reshape(10,10)\n",
    "print(\"The 10x10 multiplication table matrix is: \\n\", mat)\n",
    "anti_d = np.fliplr(mat).diagonal()\n",
    "print(\"The anti-diagonal vector is: \\n\", anti_d)\n",
    "off_mat = np.diagonal(mat, offset=1)\n",
    "print(\"The diagonal with the offset of 1 is: \\n\", off_mat)"
   ]
  },
  {
   "cell_type": "markdown",
   "metadata": {},
   "source": [
    "6\\. **Broadcasting**\n",
    "\n",
    "Use broadcasting to create a grid of distances.\n",
    "\n",
    "Route 66 crosses the following cities in the US: Chicago, Springfield, Saint-Louis, Tulsa, Oklahoma City, Amarillo, Santa Fe, Albuquerque, Flagstaff, Los Angeles.\n",
    "\n",
    "The corresponding positions in miles are: `0, 198, 303, 736, 871, 1175, 1475, 1544, 1913, 2448`\n",
    "\n",
    "  * Build a 2D grid of distances among each city along Route 66\n",
    "  * Convert the distances in km"
   ]
  },
  {
   "cell_type": "code",
   "execution_count": 7,
   "metadata": {
    "scrolled": false
   },
   "outputs": [
    {
     "name": "stdout",
     "output_type": "stream",
     "text": [
      "The 2D grid of the distances in miles is: \n",
      " [[   0.  198.  303.  736.  871. 1175. 1475. 1544. 1913. 2448.]\n",
      " [ 198.    0.  105.  538.  673.  977. 1277. 1346. 1715. 2250.]\n",
      " [ 303.  105.    0.  433.  568.  872. 1172. 1241. 1610. 2145.]\n",
      " [ 736.  538.  433.    0.  135.  439.  739.  808. 1177. 1712.]\n",
      " [ 871.  673.  568.  135.    0.  304.  604.  673. 1042. 1577.]\n",
      " [1175.  977.  872.  439.  304.    0.  300.  369.  738. 1273.]\n",
      " [1475. 1277. 1172.  739.  604.  300.    0.   69.  438.  973.]\n",
      " [1544. 1346. 1241.  808.  673.  369.   69.    0.  369.  904.]\n",
      " [1913. 1715. 1610. 1177. 1042.  738.  438.  369.    0.  535.]\n",
      " [2448. 2250. 2145. 1712. 1577. 1273.  973.  904.  535.    0.]] \n",
      "\n",
      "\n",
      "The 2D grid of the distances in kilometers instead is: \n",
      " [[   0.       198.       303.       736.       871.      1175.\n",
      "  1475.      1544.      1913.      2448.     ]\n",
      " [ 198.         0.       168.9807   865.82492 1083.08582 1572.32518\n",
      "  2055.12718 2166.17164 2760.0181  3621.015  ]\n",
      " [ 303.       168.9807     0.       696.84422  914.10512 1403.34448\n",
      "  1886.14648 1997.19094 2591.0374  3452.0343 ]\n",
      " [ 736.       865.82492  696.84422    0.       217.2609   706.50026\n",
      "  1189.30226 1300.34672 1894.19318 2755.19008]\n",
      " [ 871.      1083.08582  914.10512  217.2609     0.       489.23936\n",
      "   972.04136 1083.08582 1676.93228 2537.92918]\n",
      " [1175.      1572.32518 1403.34448  706.50026  489.23936    0.\n",
      "   482.802    593.84646 1187.69292 2048.68982]\n",
      " [1475.      2055.12718 1886.14648 1189.30226  972.04136  482.802\n",
      "     0.       111.04446  704.89092 1565.88782]\n",
      " [1544.      2166.17164 1997.19094 1300.34672 1083.08582  593.84646\n",
      "   111.04446    0.       593.84646 1454.84336]\n",
      " [1913.      2760.0181  2591.0374  1894.19318 1676.93228 1187.69292\n",
      "   704.89092  593.84646    0.       860.9969 ]\n",
      " [2448.      3621.015   3452.0343  2755.19008 2537.92918 2048.68982\n",
      "  1565.88782 1454.84336  860.9969     0.     ]]\n"
     ]
    }
   ],
   "source": [
    "distances_x = np.array([0, 198, 303, 736, 871, 1175, 1475, 1544, 1913, 2448])\n",
    "distances_y = [distances_x[i] for i in range(1, len(distances_x))]\n",
    "distances = np.zeros((len(distances_x), len(distances_x)))\n",
    "distances[0, :] = distances_x\n",
    "distances[1:, 0] = distances_y\n",
    "for i in range(1, len(distances_x)):\n",
    "    for j in range(1, len(distances_x)):\n",
    "        if (i!=j):\n",
    "            distances[i,j] = abs(distances_x[i]-distances_x[j])\n",
    "print(\"The 2D grid of the distances in miles is: \\n\", distances, \"\\n\\n\")\n",
    "coeff = float(1.60934)\n",
    "distances_km = distances*coeff\n",
    "distances_km[0, :] = distances[0, :]\n",
    "distances_km[:, 0] = distances[:, 0]\n",
    "print(\"The 2D grid of the distances in kilometers instead is: \\n\", distances_km, )"
   ]
  },
  {
   "cell_type": "markdown",
   "metadata": {},
   "source": [
    "7\\. **Prime numbers sieve**\n",
    "\n",
    "Compute the prime numbers in the 0-N (start with N=99) range with a sieve (mask).\n",
    "\n",
    "  * Construct a shape (N,) boolean array, which is the mask\n",
    "  * Identify the multiples of each number starting from 2 and set accordingly the corresponding mask element\n",
    "  * Apply the mask to obtain an array of ordered prime numbers\n",
    "  * Check the performances (with `timeit`); how does it scale with N?\n",
    "  * Implement the optimization suggested in the [sieve of Eratosthenes](https://en.wikipedia.org/wiki/Sieve_of_Eratosthenes)"
   ]
  },
  {
   "cell_type": "code",
   "execution_count": 8,
   "metadata": {
    "scrolled": false
   },
   "outputs": [
    {
     "name": "stdout",
     "output_type": "stream",
     "text": [
      "[ 0  1  2  3  4  5  6  7  8  9 10 11 12 13 14 15 16 17 18 19 20 21 22 23\n",
      " 24 25 26 27 28 29 30 31 32 33 34 35 36 37 38 39 40 41 42 43 44 45 46 47\n",
      " 48 49 50 51 52 53 54 55 56 57 58 59 60 61 62 63 64 65 66 67 68 69 70 71\n",
      " 72 73 74 75 76 77 78 79 80 81 82 83 84 85 86 87 88 89 90 91 92 93 94 95\n",
      " 96 97 98 99] \n",
      "\n",
      "\n",
      "[False False False False False False False False False False False False\n",
      " False False False False False False False False False False False False\n",
      " False False False False False False False False False False False False\n",
      " False False False False False False False False False False False False\n",
      " False False False False False False False False False False False False\n",
      " False False False False False False False False False False False False\n",
      " False False False False False False False False False False False False\n",
      " False False False False False False False False False False False False\n",
      " False False False False]\n",
      "The prime numbers are: \n",
      " [ 2  3  5  7 11 13 17 19 23 29 31 37 41 43 47 53 59 61 67 71 73 79 83 89\n",
      " 97] \n",
      "\n",
      "\n",
      "The new mask is:  [False False  True  True False  True False  True False False False  True\n",
      " False  True False False False  True False  True False False False  True\n",
      " False False False False False  True False  True False False False False\n",
      " False  True False False False  True False  True False False False  True\n",
      " False False False False False  True False False False False False  True\n",
      " False  True False False False False False  True False False False  True\n",
      " False  True False False False False False  True False False False  True\n",
      " False False False False False  True False False False False False False\n",
      " False  True False False] \n",
      "\n",
      "\n"
     ]
    },
    {
     "data": {
      "text/plain": [
       "'\\ntime = timeit.timeit(stmt=code_to_measure, number=1)\\nprint(\"The time taken to compute the prime numbers is: \", time)\\nprint(\"The prime numbers obtained with a mask are: \\n\", numbers)\\n'"
      ]
     },
     "execution_count": 8,
     "metadata": {},
     "output_type": "execute_result"
    }
   ],
   "source": [
    "import timeit\n",
    "#First method (more right as regards the approach)\n",
    "N = 99\n",
    "numbers = np.arange(0, N+1)\n",
    "print(numbers, \"\\n\\n\")\n",
    "mask = np.array([False for i in range(N+1)])\n",
    "print(mask)\n",
    "condition = np.array([N+1])\n",
    "for i in numbers[2:]:\n",
    "    new_value = numbers[i]\n",
    "    #print(\"At iteration \", i, \" we have: \", len(condition[new_value%condition == 0]), \" and an array: \", condition, \" with new value: \", new_value)\n",
    "    if(len(condition[new_value%condition == 0]) == 0):\n",
    "        condition = condition.tolist()\n",
    "        condition.append(new_value)\n",
    "        condition = np.array(condition)\n",
    "        mask[i] = True\n",
    "        #print(new_value)\n",
    "#print(\"Raw primes: \\n\", condition)\n",
    "condition = condition[1:]\n",
    "print(\"The prime numbers are: \\n\", condition, \"\\n\\n\")\n",
    "print(\"The new mask is: \", mask, \"\\n\\n\")\n",
    "numbers = numbers[mask]\n",
    "'''\n",
    "time = timeit.timeit(stmt=code_to_measure, number=1)\n",
    "print(\"The time taken to compute the prime numbers is: \", time)\n",
    "print(\"The prime numbers obtained with a mask are: \\n\", numbers)\n",
    "'''"
   ]
  },
  {
   "cell_type": "code",
   "execution_count": 9,
   "metadata": {
    "scrolled": false
   },
   "outputs": [
    {
     "name": "stdout",
     "output_type": "stream",
     "text": [
      "[ 0  1  2  3  4  5  6  7  8  9 10 11 12 13 14 15 16 17 18 19 20 21 22 23\n",
      " 24 25 26 27 28 29 30 31 32 33 34 35 36 37 38 39 40 41 42 43 44 45 46 47\n",
      " 48 49 50 51 52 53 54 55 56 57 58 59 60 61 62 63 64 65 66 67 68 69 70 71\n",
      " 72 73 74 75 76 77 78 79 80 81 82 83 84 85 86 87 88 89 90 91 92 93 94 95\n",
      " 96 97 98 99]\n",
      "[False False False False False False False False False False False False\n",
      " False False False False False False False False False False False False\n",
      " False False False False False False False False False False False False\n",
      " False False False False False False False False False False False False\n",
      " False False False False False False False False False False False False\n",
      " False False False False False False False False False False False False\n",
      " False False False False False False False False False False False False\n",
      " False False False False False False False False False False False False\n",
      " False False False False]\n",
      "The prime numbers are: [ 2  3  5  7 11 13 17 19 23 29 31 37 41 43 47 53 59 61 67 71 73 79 83 89\n",
      " 97]\n",
      "The new mask is: [False False  True  True False  True False  True False False False  True\n",
      " False  True False False False  True False  True False False False  True\n",
      " False False False False False  True False  True False False False False\n",
      " False  True False False False  True False  True False False False  True\n",
      " False False False False False  True False False False False False  True\n",
      " False  True False False False False False  True False False False  True\n",
      " False  True False False False False False  True False False False  True\n",
      " False False False False False  True False False False False False False\n",
      " False  True False False]\n",
      "The time taken to compute the prime numbers is: 0.002327799999999769\n",
      "The prime numbers obtained with a mask are:\n",
      " [ 2  3  5  7 11 13 17 19 23 29 31 37 41 43 47 53 59 61 67 71 73 79 83 89\n",
      " 97]\n"
     ]
    }
   ],
   "source": [
    "import numpy as np\n",
    "import timeit\n",
    "#First method (more right as regards the approach)\n",
    "N = 99\n",
    "code_to_measure = '''\n",
    "numbers = np.arange(0, N+1)\n",
    "print(numbers)\n",
    "mask = np.array([False for i in range(N+1)])\n",
    "print(mask)\n",
    "condition = np.array([N+1])\n",
    "for i in numbers[2:]:\n",
    "    new_value = numbers[i]\n",
    "    #print(\"At iteration \", i, \" we have: \", len(condition[new_value%condition == 0]), \" and an array: \", condition, \" with new value: \", new_value)\n",
    "    if(len(condition[new_value%condition == 0]) == 0):\n",
    "        condition = condition.tolist()\n",
    "        condition.append(new_value)\n",
    "        condition = np.array(condition)\n",
    "        mask[i] = True\n",
    "        #print(new_value)\n",
    "#print(\"Raw primes:\", condition)\n",
    "condition = condition[1:]\n",
    "print(\"The prime numbers are:\", condition)\n",
    "print(\"The new mask is:\", mask)\n",
    "numbers = numbers[mask]\n",
    "'''\n",
    "\n",
    "time = timeit.timeit(stmt=code_to_measure, globals=globals(), number=1)\n",
    "print(\"The time taken to compute the prime numbers is:\", time)\n",
    "print(\"The prime numbers obtained with a mask are:\\n\", numbers)"
   ]
  },
  {
   "cell_type": "code",
   "execution_count": 10,
   "metadata": {},
   "outputs": [
    {
     "data": {
      "text/plain": [
       "'\\nAs we can see from the plot created by computing the code and retrieving the corresponding time of computations, as we increase N \\nthe computational time increases exponentially. This is a behaviour that is difficult to see in the beginning, so when N is little, \\nhowever when N becomes big enough the pattern becomes recognisable. In our case the value of N were: [99, 99*2, 999, 999*2, 9999, 9999*2, 99999], \\nall expressed in the plot using the logaritmic function in order to make it easier to comprehend the graph, and we can see that when \\nN reaches the value of N=99999 the complexity of the code is exponential. Therefore the complexity of the method invented is worse than \\nthat of the sieve of Eratosthenes, which is just O(Nlog(logN))\\n'"
      ]
     },
     "execution_count": 10,
     "metadata": {},
     "output_type": "execute_result"
    },
    {
     "data": {
      "image/png": "[encoded data removed]",
      "text/plain": [
       "<Figure size 432x288 with 1 Axes>"
      ]
     },
     "metadata": {
      "needs_background": "light"
     },
     "output_type": "display_data"
    }
   ],
   "source": [
    "import matplotlib.pyplot as plt\n",
    "time1 = 0.0028624999977182597\n",
    "time1_2 = 0.0055346000008285046\n",
    "time2 = 0.028444099996704608\n",
    "time2_2 = 0.03662099999928614\n",
    "time3 = 0.3687361999982386\n",
    "time3_2 = 0.954739900000277\n",
    "time4 = 15.301372100002482\n",
    "plt.scatter([99, 99*2, 999, 999*2, 9999, 9999*2, 99999], [time1, time1_2, time2, time2_2, time3, time3_2, time4])\n",
    "# plt.xticks([99, 99*2, 999, 999*2, 9999, 9999*2, 99999])\n",
    "plt.xscale(\"log\")\n",
    "plt.ylabel('Time (s)')\n",
    "plt.xlabel('Value of N expressed (as a log function)')\n",
    "'''\n",
    "As we can see from the plot created by computing the code and retrieving the corresponding time of computations, as we increase N \n",
    "the computational time increases exponentially. This is a behaviour that is difficult to see in the beginning, so when N is little, \n",
    "however when N becomes big enough the pattern becomes recognisable. In our case the value of N were: [99, 99*2, 999, 999*2, 9999, 9999*2, 99999], \n",
    "all expressed in the plot using the logaritmic function in order to make it easier to comprehend the graph, and we can see that when \n",
    "N reaches the value of N=99999 the complexity of the code is exponential. Therefore the complexity of the method invented is worse than \n",
    "that of the sieve of Eratosthenes, which is just O(Nlog(logN))\n",
    "'''"
   ]
  },
  {
   "cell_type": "code",
   "execution_count": 11,
   "metadata": {},
   "outputs": [
    {
     "data": {
      "text/plain": [
       "Text(0.5, 1.0, 'Example of a function with complexity O(nlog(logn))')"
      ]
     },
     "execution_count": 11,
     "metadata": {},
     "output_type": "execute_result"
    },
    {
     "data": {
      "image/png": "[encoded data removed]",
      "text/plain": [
       "<Figure size 432x288 with 1 Axes>"
      ]
     },
     "metadata": {
      "needs_background": "light"
     },
     "output_type": "display_data"
    }
   ],
   "source": [
    "import math\n",
    "x = np.arange(2, 10)\n",
    "y = []\n",
    "for i in x:\n",
    "    y.append(i*math.log(math.log(i)))\n",
    "plt.plot(y)\n",
    "plt.title(\"Example of a function with complexity O(nlog(logn))\")"
   ]
  },
  {
   "cell_type": "code",
   "execution_count": 12,
   "metadata": {},
   "outputs": [
    {
     "name": "stdout",
     "output_type": "stream",
     "text": [
      "[ True  True  True  True  True  True  True  True  True  True  True  True\n",
      "  True  True  True  True  True  True  True  True  True  True  True  True\n",
      "  True  True  True  True  True  True  True  True  True  True  True  True\n",
      "  True  True  True  True  True  True  True  True  True  True  True  True\n",
      "  True  True  True  True  True  True  True  True  True  True  True  True\n",
      "  True  True  True  True  True  True  True  True  True  True  True  True\n",
      "  True  True  True  True  True  True  True  True  True  True  True  True\n",
      "  True  True  True  True  True  True  True  True  True  True  True  True\n",
      "  True  True  True  True]\n",
      "New mask: \n",
      "  [False False  True  True False  True False  True False False False  True\n",
      " False  True False False False  True False  True False False False  True\n",
      " False False False False False  True False  True False False False False\n",
      " False  True False False False  True False  True False False False  True\n",
      " False False False False False  True False False False False False  True\n",
      " False  True False False False False False  True False False False  True\n",
      " False  True False False False False False  True False False False  True\n",
      " False False False False False  True False False False False False False\n",
      " False  True False False] \n",
      "\n",
      "\n",
      "Prime numbers: \n",
      " [ 2  3  5  7 11 13 17 19 23 29 31 37 41 43 47 53 59 61 67 71 73 79 83 89\n",
      " 97]\n"
     ]
    }
   ],
   "source": [
    "#Second method, following the instructions. (However it is obtained by almost cheating, as the hypothesis to follow such an approach\n",
    "#is to already know the prime numbers, at least those contained in [2, 10], which is not specified as a condition in the exercise)\n",
    "N = 99\n",
    "numbers = np.arange(0, N+1)\n",
    "#print(numbers, \"\\n\\n\")\n",
    "mask = np.array([True for i in range(N+1)])\n",
    "print(mask)\n",
    "#indices = [i for i in numbers[2:] ]\n",
    "mask[numbers % 2 == 0] = False\n",
    "mask[numbers % 3 == 0] = False\n",
    "mask[numbers % 5 == 0] = False\n",
    "mask[numbers % 7 == 0] = False\n",
    "mask[numbers==2], mask[numbers==3], mask[numbers==5], mask[numbers==7] = True, True, True, True\n",
    "mask[0:2] = False\n",
    "print(\"New mask: \\n \", mask, \"\\n\\n\")\n",
    "numbers = numbers[mask]\n",
    "print(\"Prime numbers: \\n\", numbers)"
   ]
  },
  {
   "cell_type": "code",
   "execution_count": 13,
   "metadata": {},
   "outputs": [
    {
     "name": "stdout",
     "output_type": "stream",
     "text": [
      "[ 0  1  2  3  4  5  6  7  8  9 10 11 12 13 14 15 16 17 18 19 20 21 22 23\n",
      " 24 25 26 27 28 29 30 31 32 33 34 35 36 37 38 39 40 41 42 43 44 45 46 47\n",
      " 48 49 50 51 52 53 54 55 56 57 58 59 60 61 62 63 64 65 66 67 68 69 70 71\n",
      " 72 73 74 75 76 77 78 79 80 81 82 83 84 85 86 87 88 89 90 91 92 93 94 95\n",
      " 96 97 98 99]\n",
      "[ 2  3  5  7 11 13 17 19 23 29 31 37 41 43 47 53 59 61 67 71 73 79 83 89\n",
      " 97]\n"
     ]
    }
   ],
   "source": [
    "#Third approach, based on the sieve of Eratosthenes\n",
    "N = 99\n",
    "numbers = np.arange(0, N+1)\n",
    "print(numbers)\n",
    "mask = np.array([True for i in range(N+1)])\n",
    "mask[numbers % 2 == 0] = False\n",
    "mask[numbers==2] = True\n",
    "mask[numbers % 3 == 0] = False\n",
    "mask[numbers==3] = True\n",
    "#Number 4 has already been removed as a multiple of 2\n",
    "mask[numbers % 5 == 0] = False\n",
    "mask[numbers==5] = True\n",
    "#Number 6 has already been removed as a multiple of 2 and 3\n",
    "mask[numbers % 7 == 0] = False\n",
    "mask[numbers==7] = True\n",
    "#Number 8,9,10 already removed.\n",
    "numbers = numbers[mask]\n",
    "numbers = numbers[1:]\n",
    "print(numbers)"
   ]
  },
  {
   "cell_type": "code",
   "execution_count": 14,
   "metadata": {},
   "outputs": [
    {
     "name": "stdout",
     "output_type": "stream",
     "text": [
      "[ 1  2  3  4  5 10 15 20] [ 5 10 15 20] 4\n"
     ]
    }
   ],
   "source": [
    "a = np.array([1,2,3,4,5,10,15])\n",
    "a = a.tolist()\n",
    "a.append(20)\n",
    "a = np.array(a)\n",
    "b = a[a%5 == 0]\n",
    "print(a, b, len(b))"
   ]
  },
  {
   "cell_type": "markdown",
   "metadata": {},
   "source": [
    "8\\. **Diffusion using random walk**\n",
    "\n",
    "Consider a simple random walk process: at each step in time, a walker jumps right or left (+1 or -1) with equal probability. The goal is to find the typical distance from the origin of many random walkers after a given amount of time.\n",
    "\n",
    "*Hint*: create a 2D array where each row represents a walker, and each column represents a time step.\n",
    "\n",
    "  * Take 1000 walkers and let them walk for 200 steps\n",
    "  * Use `randint` to create a 2D array of size $walkers \\times steps$ with values -1 or 1\n",
    "  * Calculate the walking distances for each walker (e.g. by summing the elements in each row)\n",
    "  * Take the square of the previously-obtained array (element-wise)\n",
    "  * Compute the mean of the squared distances at each step (i.e. the mean along the columns)\n",
    "  * **Optional**: plot the average distances ($\\sqrt(distance^2)$) as a function of time (step)"
   ]
  },
  {
   "cell_type": "code",
   "execution_count": 21,
   "metadata": {},
   "outputs": [
    {
     "name": "stdout",
     "output_type": "stream",
     "text": [
      "[[   0.    1.    2. ...  198.  199.  200.]\n",
      " [   1.   -1.   -1. ...    1.   -1.   -1.]\n",
      " [   2.    1.   -1. ...   -1.   -1.    1.]\n",
      " ...\n",
      " [ 998.   -1.    1. ...    1.   -1.    1.]\n",
      " [ 999.   -1.    1. ...    1.    1.    1.]\n",
      " [1000.    1.    1. ...    1.    1.   -1.]]\n",
      "[  64  144   16   16  784   36  256  256  256   64    4  196  676    4\n",
      "  196   64    0  100  144  576  400   64  784   64   36   36   36   64\n",
      "    0  400    4 1024  100  400   36  324    4  100  256  144   16    0\n",
      "   16  256  676   64  100    4   64    4   36  576 1600   64   16   36\n",
      "   64  144  100    4  100    4    4  144   16   64  100    4   64   64\n",
      "    4    4  784  256  144  484    0  256    4  256  196  900  100  196\n",
      "  400  144  144 2704  196   36  144  196  144   16   16  144  256   36\n",
      "   36   16   64    4  900   36   36  144  196  196   36   16  100  100\n",
      "  100   36   16   64  784   16  324    4   64    0   16  100   64   64\n",
      "  676  144  196   36   64    0    4    4   16  100   64  784   64    4\n",
      "   36   16    4   16   36  576   64  144   16    4   36  196  100   64\n",
      "  256   16  196  144  576   64  324  324  196   64  784  324  196  784\n",
      "   36  100  256  324   36   64   36   16  196   36   16  144 1936   36\n",
      "  484    0   64   16    4    4   64   36    4  324   16 1296  400  784\n",
      "    0   16  196    4  576   16  676  576  256    4   36   36   64  100\n",
      "  100  576   36  256  100  196   16   16  100   36  576 1024   16  144\n",
      "  256  196    4   36  900  324  784    4    4  484   36  484    4    4\n",
      "  256    4    4   16  900  144  144  900   16    4  576   16  676   64\n",
      "   36   64   36  576  196    4   16  576  144   16  256  324   36  400\n",
      " 1296    4   64  196   64   16   16  400  144  400    4   36   64   64\n",
      "  144   36   64 1024   16   16    4   64    4  324   36  256 1156  256\n",
      "   36    0   16  196   36   64  100  100    4   36    0  324  576   36\n",
      "   64  100   36   16   16  100  100  324   64  784  100    0  196 1600\n",
      "  400    4  144    4    4  484    4    4  196  400  256   16   64   16\n",
      "   64  576  256 1156  484   36  256  256  576   16   64   36    4  196\n",
      " 1024   16   16   16  900  100  100  144  324   36   16   64  900  484\n",
      "  324   36  144  784  196  484    4  400  100  400   36   36  100   36\n",
      "   16  100    4  256   16  484  484   16   64  196  576    4  324   64\n",
      "  400  144   36  256   16  256   36  144    0   16  484  400  100  144\n",
      "   64  676   16 1024    4   36 1296  144  196  144  144   36   16  256\n",
      "    0    4    4  144    0  576  484  144  256    4   36   16  144   16\n",
      "  144  256    0    4  144   64  784  100  144    4  900  100  196    0\n",
      "   16    4 1024  196   36  144  256  100   16  400  144  324   64   36\n",
      "  784   36  196    4    4  676  100    0  784  144    0   36    4  256\n",
      "  100   36   16   64    4   36    0  676   16    0   64  324  484   36\n",
      "   36  484   16  196   16 1600  900  324 1024   64  400    4   64  144\n",
      "   64  100  676  676   16   36 1296  676  196   36    4  324   16  576\n",
      "  144  196   36    4  144   64    0   16    4 1024  676   16  400  256\n",
      "    4   64   36   36   64 1024   16  324  576  676    4   64   64  324\n",
      " 1600  196  484   64   36 2704 1024  256   64  100  784   64  196    0\n",
      "  144  256  144   64  576   64   36  676  324   36  400   36   16  676\n",
      "  400  144   36  676   16  196  484  484  400   16 1024  144  100  100\n",
      "  576 1764  400  484    4    4   64  256   64  144  400  324  196  144\n",
      "  676  100  144 2116  484  324   36   16  100  196   64  784  100  576\n",
      "    4  900  256   36  256   16  196  196  484  484  256   36  484  324\n",
      "   64  100   64  144   36  100  484  324    4  484  100   64  676   36\n",
      "  256    4   36  100   64 1024   64  324   16  100  324  484  100    4\n",
      "  484   36   36    4  676   64  484    0   64  100   36  144 1024  900\n",
      "   36    4    4  784  256  484  100  324  324    4 1024   64    4  576\n",
      "    4   16   64  900   36   36  100  576    4   64   64  676  256  256\n",
      "   64  676  676   64  100   36  484   36   64  256   64    4 1024  144\n",
      "  144 1024   16  484  324   64  144  196  196  256  196   64 1296  484\n",
      "    0  256  196    0   36  324   16    4   64  100    0  196    0  484\n",
      "   36  144   16   16  256  196  196    4  100   64  400  100  676  100\n",
      "   36  100  100  100  900  400  100  196  400   16  144    4  784    4\n",
      "   16    0  324  144  400  256  324   64    0  484   16  196  484   36\n",
      "  400   36   36   36  256  256   36   16  196  100  324  144    0  196\n",
      "  196  196    4  144  256   36  900    4  576  100    4    4   16   16\n",
      "   16   36   36  324  196    4   36  256  676  784  196  576  676  196\n",
      "   16    4  144  256   64   36  256  196  196  196   36   16  144   64\n",
      "   16   36  324   16   64    0  100  784    0 1156  144 1764  256  576\n",
      "  100  676  324  100  144   36  144   64  576  196  324   36  144   64\n",
      "  144  144  100  144    4   64  144   16   16 1156  196  196   36  324\n",
      "   64  256  144   36  196  400   36   36  256    4  100  100 1024    4\n",
      "   36  576   36  576   64   16    4    0  256   36  144    4    4   36\n",
      "   36  576  256  256  324   64    0   36    4  196   64  676   36    4\n",
      "   16  400  400    4   16    0    4   16   36   64  324  100  324    4\n",
      "    0 1296 1156  676   16  324    4  196  100   64  196  144 1156  256\n",
      "   16 1024    0    0   64  784    0  144   64    4    4  100   64   16\n",
      "   64  784    4  324  100    4    0  196    4   16    0    4    0  484\n",
      "   64  676  324  576   64  144    4  676  256    4  144  100  144   16\n",
      "  576  400  400  100 1936  100]\n",
      "[-0.02197802197802198, -0.013986013986013986, 0.053946053946053944, -0.027972027972027972, -0.001998001998001998, -0.02197802197802198, 0.003996003996003996, -0.029970029970029972, -0.003996003996003996, -0.03196803196803197, 0.07392607392607392, 0.013986013986013986, -0.03596403596403597, 0.05194805194805195, -0.04995004995004995, -0.011988011988011988, 0.015984015984015984, -0.00999000999000999, 0.08391608391608392, 0.01998001998001998, -0.027972027972027972, -0.01998001998001998, -0.027972027972027972, -0.007992007992007992, -0.015984015984015984, -0.013986013986013986, 0.00999000999000999, 0.06993006993006994, 0.03596403596403597, 0.04195804195804196, -0.059940059940059943, 0.013986013986013986, 0.04595404595404595, -0.055944055944055944, -0.06593406593406594, -0.03196803196803197, -0.02197802197802198, -0.03596403596403597, 0.04195804195804196, 0.007992007992007992, 0.0, -0.003996003996003996, -0.04595404595404595, -0.03196803196803197, 0.055944055944055944, 0.007992007992007992, -0.07592407592407592, -0.04595404595404595, 0.00999000999000999, -0.061938061938061936, -0.001998001998001998, -0.027972027972027972, -0.015984015984015984, 0.00999000999000999, 0.003996003996003996, -0.04395604395604396, -0.011988011988011988, -0.03596403596403597, -0.017982017982017984, 0.029970029970029972, -0.005994005994005994, -0.007992007992007992, -0.04195804195804196, -0.06393606393606394, -0.005994005994005994, -0.02197802197802198, 0.013986013986013986, -0.027972027972027972, -0.011988011988011988, -0.03396603396603397, -0.001998001998001998, -0.025974025974025976, 0.003996003996003996, -0.003996003996003996, -0.01998001998001998, -0.04195804195804196, 0.03996003996003996, 0.023976023976023976, -0.00999000999000999, -0.011988011988011988, -0.04195804195804196, 0.005994005994005994, -0.04995004995004995, -0.04195804195804196, 0.025974025974025976, -0.003996003996003996, 0.029970029970029972, 0.03196803196803197, 0.003996003996003996, 0.003996003996003996, -0.005994005994005994, 0.015984015984015984, -0.02197802197802198, -0.013986013986013986, -0.017982017982017984, -0.015984015984015984, -0.027972027972027972, 0.059940059940059943, -0.02197802197802198, 0.053946053946053944, -0.013986013986013986, -0.003996003996003996, 0.00999000999000999, 0.015984015984015984, 0.007992007992007992, 0.017982017982017984, 0.023976023976023976, 0.00999000999000999, 0.003996003996003996, -0.027972027972027972, -0.011988011988011988, 0.0, 0.04795204795204795, -0.007992007992007992, -0.003996003996003996, 0.003996003996003996, -0.04795204795204795, -0.025974025974025976, 0.03396603396603397, -0.015984015984015984, 0.015984015984015984, -0.029970029970029972, 0.02197802197802198, -0.04195804195804196, -0.013986013986013986, -0.03396603396603397, 0.011988011988011988, 0.05194805194805195, -0.003996003996003996, -0.025974025974025976, 0.00999000999000999, -0.007992007992007992, -0.01998001998001998, -0.04995004995004995, -0.03396603396603397, -0.07392607392607392, -0.03396603396603397, 0.04195804195804196, -0.03996003996003996, -0.027972027972027972, 0.013986013986013986, 0.00999000999000999, 0.007992007992007992, 0.053946053946053944, 0.001998001998001998, -0.04995004995004995, 0.011988011988011988, 0.06393606393606394, -0.017982017982017984, 0.017982017982017984, 0.001998001998001998, -0.029970029970029972, -0.005994005994005994, -0.03596403596403597, -0.02197802197802198, 0.025974025974025976, 0.005994005994005994, 0.003996003996003996, -0.06593406593406594, -0.005994005994005994, 0.0, 0.005994005994005994, -0.001998001998001998, -0.04795204795204795, 0.03196803196803197, 0.011988011988011988, 0.027972027972027972, -0.02197802197802198, -0.06393606393606394, -0.007992007992007992, -0.01998001998001998, 0.001998001998001998, 0.06993006993006994, -0.011988011988011988, 0.061938061938061936, -0.061938061938061936, -0.015984015984015984, -0.001998001998001998, -0.007992007992007992, -0.059940059940059943, -0.007992007992007992, 0.00999000999000999, 0.0919080919080919, 0.04195804195804196, 0.005994005994005994, -0.027972027972027972, -0.00999000999000999, 0.03596403596403597, 0.007992007992007992, 0.007992007992007992, -0.06393606393606394, 0.02197802197802198, -0.003996003996003996, 0.01998001998001998, -0.03396603396603397, 0.001998001998001998, 0.007992007992007992, 0.025974025974025976, 0.00999000999000999, 0.07592407592407592]\n"
     ]
    }
   ],
   "source": [
    "import random\n",
    "#Seed set just to test that the code performs as it should\n",
    "random.seed(0)\n",
    "walkers = np.arange(1001)\n",
    "steps = np.arange(201)\n",
    "path = np.zeros((len(walkers), len(steps)))\n",
    "path[:, 0] = walkers\n",
    "path[0, :] = steps\n",
    "# print(path)\n",
    "exclude = [0]\n",
    "for i in range(1, len(steps)):\n",
    "    for j in range(1, len(walkers)):\n",
    "        #It does not check the value of the randint: it can't be 0!\n",
    "        '''\n",
    "        new_value = random.randint(-1, 1)\n",
    "        if (new_value != 0):\n",
    "            path[i,j] = new_value\n",
    "            print(i, j, \" Value inserted: \", path[i,j])\n",
    "        else:\n",
    "            ''\n",
    "        '''\n",
    "        new_value = random.randint(-1, 1)\n",
    "        while(new_value in exclude):\n",
    "            new_value = random.randint(-1, 1)\n",
    "        path[j, i] = new_value\n",
    "#         print(j, i, \" Value inserted: \", path[j, i])\n",
    "print(path)\n",
    "distance_walk = np.arange(1001)\n",
    "sum = 0\n",
    "for j in range(1, len(walkers)):\n",
    "    sum_j = 0\n",
    "    for i in range(1, len(steps)):\n",
    "        sum_j += path[j,i]\n",
    "    distance_walk[j] = sum_j\n",
    "distance_walk = distance_walk[1:]\n",
    "for i in range(len(distance_walk)):\n",
    "    distance_walk[i] = distance_walk[i]**2\n",
    "print(distance_walk)\n",
    "# distances = np.arange(201)\n",
    "distances = []\n",
    "for i in range(1, len(steps)):\n",
    "    sum_i = 0\n",
    "    for j in range(1, len(walkers)):\n",
    "        sum_i += path[j, i]\n",
    "#     print(sum_i, len(walkers), sum_i/len(walkers))\n",
    "#     distances[i] = sum_i/len(walkers)\n",
    "    distances.append(sum_i/len(walkers))\n",
    "#     print(\"distances[\", i, \"]=\", distances[i])\n",
    "# distances = distances[1:]\n",
    "print(distances)"
   ]
  }
 ],
 "metadata": {
  "kernelspec": {
   "display_name": "Python 3 (ipykernel)",
   "language": "python",
   "name": "python3"
  },
  "language_info": {
   "codemirror_mode": {
    "name": "ipython",
    "version": 3
   },
   "file_extension": ".py",
   "mimetype": "text/x-python",
   "name": "python",
   "nbconvert_exporter": "python",
   "pygments_lexer": "ipython3",
   "version": "3.9.7"
  }
 },
 "nbformat": 4,
 "nbformat_minor": 2
}
